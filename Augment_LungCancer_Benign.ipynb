{
 "cells": [
  {
   "cell_type": "code",
   "execution_count": 46,
   "id": "36e2f199",
   "metadata": {},
   "outputs": [],
   "source": [
    "import os\n",
    "from keras.preprocessing.image import ImageDataGenerator\n",
    "from keras.preprocessing import image\n",
    "from tensorflow.keras.preprocessing.image import load_img\n",
    "from tensorflow.keras.preprocessing.image import img_to_array\n",
    "import numpy as np"
   ]
  },
  {
   "cell_type": "code",
   "execution_count": 47,
   "id": "9af768cd",
   "metadata": {},
   "outputs": [],
   "source": [
    "input_directory = 'C:/Users/LENOVO/OneDrive/Desktop/The IQ-OTHNCCD lung cancer dataset/The IQ-OTHNCCD lung cancer dataset/Bengin cases'\n",
    "output_directory = 'C:/aug'"
   ]
  },
  {
   "cell_type": "code",
   "execution_count": 48,
   "id": "3ed1d91c",
   "metadata": {},
   "outputs": [],
   "source": [
    "images = []\n",
    "for filename in os.listdir(input_directory):\n",
    "    img = load_img(os.path.join(input_directory, filename))\n",
    "    img = img_to_array(img)\n",
    "    images.append(img)"
   ]
  },
  {
   "cell_type": "code",
   "execution_count": 49,
   "id": "6e5a0171",
   "metadata": {},
   "outputs": [],
   "source": [
    "datagen = ImageDataGenerator(\n",
    "    rotation_range=20,\n",
    "    width_shift_range=0.1,\n",
    "    height_shift_range=0.1,\n",
    "    shear_range=0.2,\n",
    "    zoom_range=0.2,\n",
    "    horizontal_flip=True,\n",
    "    fill_mode='nearest')"
   ]
  },
  {
   "cell_type": "code",
   "execution_count": 50,
   "id": "7d884818",
   "metadata": {},
   "outputs": [],
   "source": [
    "# Step 4: Generate Augmented Images and Save\n",
    "for i, img in enumerate(images):\n",
    "    img = np.expand_dims(img, axis=0)\n",
    "    aug_iter = datagen.flow(img, save_to_dir=output_directory, save_prefix=f'Benign_case_{i+1}_', save_format='jpg')\n",
    "    augmented_img = next(aug_iter)[0].astype(np.uint8)"
   ]
  },
  {
   "cell_type": "code",
   "execution_count": null,
   "id": "41386381",
   "metadata": {},
   "outputs": [],
   "source": []
  }
 ],
 "metadata": {
  "kernelspec": {
   "display_name": "Python 3 (ipykernel)",
   "language": "python",
   "name": "python3"
  },
  "language_info": {
   "codemirror_mode": {
    "name": "ipython",
    "version": 3
   },
   "file_extension": ".py",
   "mimetype": "text/x-python",
   "name": "python",
   "nbconvert_exporter": "python",
   "pygments_lexer": "ipython3",
   "version": "3.10.9"
  }
 },
 "nbformat": 4,
 "nbformat_minor": 5
}
